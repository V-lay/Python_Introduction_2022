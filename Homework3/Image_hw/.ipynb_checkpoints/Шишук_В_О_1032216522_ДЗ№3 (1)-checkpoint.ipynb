{
 "cells": [
  {
   "cell_type": "code",
   "execution_count": 2,
   "id": "555498a9",
   "metadata": {},
   "outputs": [
    {
     "ename": "FileNotFoundError",
     "evalue": "[Errno 2] No such file or directory: '/usr/lib/python3.10/site-packages/matplotlib/mpl-data/sample_data/Image-hw/testhw.jpg'",
     "output_type": "error",
     "traceback": [
      "\u001b[0;31m---------------------------------------------------------------------------\u001b[0m",
      "\u001b[0;31mFileNotFoundError\u001b[0m                         Traceback (most recent call last)",
      "Input \u001b[0;32mIn [2]\u001b[0m, in \u001b[0;36m<cell line: 5>\u001b[0;34m()\u001b[0m\n\u001b[1;32m      3\u001b[0m \u001b[38;5;28;01mimport\u001b[39;00m \u001b[38;5;21;01mmatplotlib\u001b[39;00m\u001b[38;5;21;01m.\u001b[39;00m\u001b[38;5;21;01mcbook\u001b[39;00m \u001b[38;5;28;01mas\u001b[39;00m \u001b[38;5;21;01mcbook\u001b[39;00m\n\u001b[1;32m      4\u001b[0m \u001b[38;5;66;03m# Превращаем изображение в массив\u001b[39;00m\n\u001b[0;32m----> 5\u001b[0m image_file \u001b[38;5;241m=\u001b[39m \u001b[43mcbook\u001b[49m\u001b[38;5;241;43m.\u001b[39;49m\u001b[43mget_sample_data\u001b[49m\u001b[43m(\u001b[49m\u001b[38;5;124;43m'\u001b[39;49m\u001b[38;5;124;43mImage-hw/testhw.jpg\u001b[39;49m\u001b[38;5;124;43m'\u001b[39;49m\u001b[43m)\u001b[49m\n\u001b[1;32m      6\u001b[0m image \u001b[38;5;241m=\u001b[39m plt\u001b[38;5;241m.\u001b[39mimread(image_file)\n\u001b[1;32m      7\u001b[0m \u001b[38;5;66;03m# Делим 3д массив на 3 двумерных, для каждого из основных цветов: Red,Green,Blue\u001b[39;00m\n",
      "File \u001b[0;32m/usr/lib/python3.10/site-packages/matplotlib/cbook/__init__.py:507\u001b[0m, in \u001b[0;36mget_sample_data\u001b[0;34m(fname, asfileobj, np_load)\u001b[0m\n\u001b[1;32m    505\u001b[0m         \u001b[38;5;28;01mreturn\u001b[39;00m path\u001b[38;5;241m.\u001b[39mopen(\u001b[38;5;124m'\u001b[39m\u001b[38;5;124mr\u001b[39m\u001b[38;5;124m'\u001b[39m)\n\u001b[1;32m    506\u001b[0m     \u001b[38;5;28;01melse\u001b[39;00m:\n\u001b[0;32m--> 507\u001b[0m         \u001b[38;5;28;01mreturn\u001b[39;00m \u001b[43mpath\u001b[49m\u001b[38;5;241;43m.\u001b[39;49m\u001b[43mopen\u001b[49m\u001b[43m(\u001b[49m\u001b[38;5;124;43m'\u001b[39;49m\u001b[38;5;124;43mrb\u001b[39;49m\u001b[38;5;124;43m'\u001b[39;49m\u001b[43m)\u001b[49m\n\u001b[1;32m    508\u001b[0m \u001b[38;5;28;01melse\u001b[39;00m:\n\u001b[1;32m    509\u001b[0m     \u001b[38;5;28;01mreturn\u001b[39;00m \u001b[38;5;28mstr\u001b[39m(path)\n",
      "File \u001b[0;32m/usr/lib/python3.10/pathlib.py:1119\u001b[0m, in \u001b[0;36mPath.open\u001b[0;34m(self, mode, buffering, encoding, errors, newline)\u001b[0m\n\u001b[1;32m   1117\u001b[0m \u001b[38;5;28;01mif\u001b[39;00m \u001b[38;5;124m\"\u001b[39m\u001b[38;5;124mb\u001b[39m\u001b[38;5;124m\"\u001b[39m \u001b[38;5;129;01mnot\u001b[39;00m \u001b[38;5;129;01min\u001b[39;00m mode:\n\u001b[1;32m   1118\u001b[0m     encoding \u001b[38;5;241m=\u001b[39m io\u001b[38;5;241m.\u001b[39mtext_encoding(encoding)\n\u001b[0;32m-> 1119\u001b[0m \u001b[38;5;28;01mreturn\u001b[39;00m \u001b[38;5;28;43mself\u001b[39;49m\u001b[38;5;241;43m.\u001b[39;49m\u001b[43m_accessor\u001b[49m\u001b[38;5;241;43m.\u001b[39;49m\u001b[43mopen\u001b[49m\u001b[43m(\u001b[49m\u001b[38;5;28;43mself\u001b[39;49m\u001b[43m,\u001b[49m\u001b[43m \u001b[49m\u001b[43mmode\u001b[49m\u001b[43m,\u001b[49m\u001b[43m \u001b[49m\u001b[43mbuffering\u001b[49m\u001b[43m,\u001b[49m\u001b[43m \u001b[49m\u001b[43mencoding\u001b[49m\u001b[43m,\u001b[49m\u001b[43m \u001b[49m\u001b[43merrors\u001b[49m\u001b[43m,\u001b[49m\n\u001b[1;32m   1120\u001b[0m \u001b[43m                           \u001b[49m\u001b[43mnewline\u001b[49m\u001b[43m)\u001b[49m\n",
      "\u001b[0;31mFileNotFoundError\u001b[0m: [Errno 2] No such file or directory: '/usr/lib/python3.10/site-packages/matplotlib/mpl-data/sample_data/Image-hw/testhw.jpg'"
     ]
    }
   ],
   "source": [
    "import numpy as np\n",
    "import matplotlib.pyplot as plt\n",
    "import matplotlib.cbook as cbook\n",
    "# Превращаем изображение в массив\n",
    "image_file = cbook.get_sample_data('Image-hw/testhw.jpg')\n",
    "image = plt.imread(image_file)\n",
    "# Делим 3д массив на 3 двумерных, для каждого из основных цветов: Red,Green,Blue\n",
    "im_r = image[:,:, 0]\n",
    "im_g = image[:,:, 1]\n",
    "im_b = image[:,:, 2]\n",
    "# делаем SVD разложение по каждому из цветов\n",
    "U_r, D_r, V_r = np.linalg.svd(im_r)\n",
    "U_g, D_g, V_g = np.linalg.svd(im_g)\n",
    "U_b, D_b, V_b = np.linalg.svd(im_b)\n",
    "Fin_arr = np.zeros((700,666,3), dtype = int)\n",
    "# используем реконструкцию для разных сингулярных значений по каждому цвету\n",
    "for i in [10,20,30,40,50,60,70,80,90,100]:\n",
    "    reconstimg_r = np.matrix(U_r[:,:i]) * np.diag(D_r[:i]) * np.matrix(V_r[:i,:])\n",
    "    reconstimg_g = np.matrix(U_g[:,:i]) * np.diag(D_g[:i]) * np.matrix(V_g[:i,:])\n",
    "    reconstimg_b = np.matrix(U_b[:,:i]) * np.diag(D_b[:i]) * np.matrix(V_b[:i,:])\n",
    "    # массивы по каждому цвету снова преобразуем в 3д массив исходного изображения: получим реконструкцию\n",
    "    # целого изображения для разных сингулярных значений\n",
    "    Fin_arr[:,:,0] = reconstimg_r\n",
    "    Fin_arr[:, :, 1] = reconstimg_g\n",
    "    Fin_arr[:, :, 2] = reconstimg_b\n",
    "    plt.imshow(Fin_arr)\n",
    "    title = \"n = %s\" % i\n",
    "    plt.title(title)\n",
    "    plt.show()"
   ]
  },
  {
   "cell_type": "code",
   "execution_count": null,
   "id": "a2c68bbe",
   "metadata": {},
   "outputs": [],
   "source": []
  }
 ],
 "metadata": {
  "kernelspec": {
   "display_name": "Python 3 (ipykernel)",
   "language": "python",
   "name": "python3"
  },
  "language_info": {
   "codemirror_mode": {
    "name": "ipython",
    "version": 3
   },
   "file_extension": ".py",
   "mimetype": "text/x-python",
   "name": "python",
   "nbconvert_exporter": "python",
   "pygments_lexer": "ipython3",
   "version": "3.10.6"
  }
 },
 "nbformat": 4,
 "nbformat_minor": 5
}
